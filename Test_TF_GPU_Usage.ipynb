{
 "cells": [
  {
   "cell_type": "code",
   "execution_count": 13,
   "id": "247c9bc5",
   "metadata": {},
   "outputs": [],
   "source": [
    "import warnings\n",
    "\n",
    "def fxn():\n",
    "    warnings.warn(\"deprecated\", DeprecationWarning)\n",
    "\n",
    "with warnings.catch_warnings():\n",
    "    warnings.simplefilter(\"ignore\")\n",
    "    fxn()"
   ]
  },
  {
   "cell_type": "code",
   "execution_count": 14,
   "id": "5ef126be-7baf-4de0-a479-3d7a6949c889",
   "metadata": {},
   "outputs": [
    {
     "name": "stdout",
     "output_type": "stream",
     "text": [
      "Python and Driver Version: 3.10.9 (main, Mar  1 2023, 18:23:06) [GCC 11.2.0]\n",
      "TensorFlow Version: 2.12.0\n",
      "1 Physical GPU(s), 1 Logical GPU(s)\n",
      "GPU set as the default device.\n",
      "GPU found?: True\n",
      "Num GPUs Available: 1\n",
      "[name: \"/device:CPU:0\"\n",
      "device_type: \"CPU\"\n",
      "memory_limit: 268435456\n",
      "locality {\n",
      "}\n",
      "incarnation: 440334189069504971\n",
      "xla_global_id: -1\n",
      ", name: \"/device:GPU:0\"\n",
      "device_type: \"GPU\"\n",
      "memory_limit: 7691304960\n",
      "locality {\n",
      "  bus_id: 1\n",
      "  links {\n",
      "  }\n",
      "}\n",
      "incarnation: 4153721163023680020\n",
      "physical_device_desc: \"device: 0, name: NVIDIA GeForce RTX 3080, pci bus id: 0000:01:00.0, compute capability: 8.6\"\n",
      "xla_global_id: 416903419\n",
      "]\n"
     ]
    },
    {
     "name": "stderr",
     "output_type": "stream",
     "text": [
      "2023-05-29 16:54:22.053749: I tensorflow/compiler/xla/stream_executor/cuda/cuda_gpu_executor.cc:982] could not open file to read NUMA node: /sys/bus/pci/devices/0000:01:00.0/numa_node\n",
      "Your kernel may have been built without NUMA support.\n",
      "2023-05-29 16:54:22.053845: I tensorflow/compiler/xla/stream_executor/cuda/cuda_gpu_executor.cc:982] could not open file to read NUMA node: /sys/bus/pci/devices/0000:01:00.0/numa_node\n",
      "Your kernel may have been built without NUMA support.\n",
      "2023-05-29 16:54:22.053867: I tensorflow/compiler/xla/stream_executor/cuda/cuda_gpu_executor.cc:982] could not open file to read NUMA node: /sys/bus/pci/devices/0000:01:00.0/numa_node\n",
      "Your kernel may have been built without NUMA support.\n",
      "2023-05-29 16:54:22.054254: I tensorflow/compiler/xla/stream_executor/cuda/cuda_gpu_executor.cc:982] could not open file to read NUMA node: /sys/bus/pci/devices/0000:01:00.0/numa_node\n",
      "Your kernel may have been built without NUMA support.\n",
      "2023-05-29 16:54:22.054267: I tensorflow/core/common_runtime/gpu/gpu_device.cc:1722] Could not identify NUMA node of platform GPU id 0, defaulting to 0.  Your kernel may not have been built with NUMA support.\n",
      "2023-05-29 16:54:22.054295: I tensorflow/compiler/xla/stream_executor/cuda/cuda_gpu_executor.cc:982] could not open file to read NUMA node: /sys/bus/pci/devices/0000:01:00.0/numa_node\n",
      "Your kernel may have been built without NUMA support.\n",
      "2023-05-29 16:54:22.054315: I tensorflow/core/common_runtime/gpu/gpu_device.cc:1635] Created device /device:GPU:0 with 7335 MB memory:  -> device: 0, name: NVIDIA GeForce RTX 3080, pci bus id: 0000:01:00.0, compute capability: 8.6\n"
     ]
    }
   ],
   "source": [
    "import sys\n",
    "import tensorflow as tf\n",
    "\n",
    "# Print Python, Driver, and TensorFlow versions\n",
    "print(\"Python and Driver Version:\", sys.version)\n",
    "print(\"TensorFlow Version:\", tf.__version__)\n",
    "\n",
    "# Set GPU as the Default Device\n",
    "gpus = tf.config.list_physical_devices('GPU')\n",
    "if gpus:\n",
    "    try:\n",
    "        tf.config.experimental.set_visible_devices(gpus[0], 'GPU')\n",
    "        tf.config.experimental.set_memory_growth(gpus[0], True)\n",
    "        logical_gpus = tf.config.experimental.list_logical_devices('GPU')\n",
    "        print(len(gpus), \"Physical GPU(s),\", len(logical_gpus), \"Logical GPU(s)\")\n",
    "        print(\"GPU set as the default device.\")\n",
    "    except RuntimeError as e:\n",
    "        print(e)\n",
    "else:\n",
    "    print(\"No GPU available.\")\n",
    "\n",
    "# Check GPU Availability\n",
    "GPU_LIST = tf.config.list_physical_devices('GPU')\n",
    "print(\"GPU found?:\", len(GPU_LIST) > 0)\n",
    "print(\"Num GPUs Available:\", len(GPU_LIST))\n",
    "\n",
    "# Display Local Devices\n",
    "from tensorflow.python.client import device_lib\n",
    "print(device_lib.list_local_devices())\n"
   ]
  },
  {
   "cell_type": "code",
   "execution_count": 15,
   "id": "6d9bd576",
   "metadata": {},
   "outputs": [
    {
     "name": "stderr",
     "output_type": "stream",
     "text": [
      "Training Progress: 100%|██████████████████████████████████████████████████████████████████| 5/5 [00:08<00:00,  1.75s/it]"
     ]
    },
    {
     "name": "stdout",
     "output_type": "stream",
     "text": [
      "Epoch 5/5 - Loss: 0.0943 - Accuracy: 0.9714\n"
     ]
    },
    {
     "name": "stderr",
     "output_type": "stream",
     "text": [
      "\n"
     ]
    }
   ],
   "source": [
    "import tensorflow as tf\n",
    "import time\n",
    "from tqdm import tqdm\n",
    "import matplotlib.pyplot as plt\n",
    "\n",
    "# Set Epoch and Batch Size Here\n",
    "epochs = 5\n",
    "batch_size = 100\n",
    "##How many status bars to show\n",
    "show_epochs = 1\n",
    "\n",
    "mnist = tf.keras.datasets.mnist\n",
    "\n",
    "(x_train, y_train), (x_test, y_test) = mnist.load_data()\n",
    "x_train, x_test = x_train / 255.0, x_test / 255.0\n",
    "\n",
    "model = tf.keras.models.Sequential([\n",
    "    tf.keras.layers.Flatten(input_shape=(28, 28)),\n",
    "    tf.keras.layers.Dense(128, activation=\"relu\"),\n",
    "    tf.keras.layers.Dropout(0.2),\n",
    "    tf.keras.layers.Dense(10),\n",
    "])\n",
    "\n",
    "loss_fn = tf.keras.losses.SparseCategoricalCrossentropy(from_logits=True)\n",
    "model.compile(optimizer=\"adam\", loss=loss_fn, metrics=[\"accuracy\"])\n",
    "tf.debugging.set_log_device_placement(True)\n",
    "\n",
    "# Calculate the number of steps per epoch\n",
    "steps_per_epoch = len(x_train) // batch_size\n",
    "\n",
    "# Use tqdm to create a progress bar\n",
    "progress_bar = tqdm(total=epochs, desc=\"Training Progress\")\n",
    "\n",
    "start_time = time.time()\n",
    "\n",
    "loss_history = []\n",
    "accuracy_history = []\n",
    "\n",
    "for epoch in range(epochs):\n",
    "    # Train for one epoch\n",
    "    history = model.fit(x_train, y_train, batch_size=batch_size, verbose=0)\n",
    "    \n",
    "    # Update the progress bar\n",
    "    progress_bar.update(1)\n",
    "    \n",
    "    # Print information for the last show_epochs epochs\n",
    "    if epoch >= epochs - show_epochs:\n",
    "        print(f\"Epoch {epoch+1}/{epochs} - Loss: {history.history['loss'][-1]:.4f} - Accuracy: {history.history['accuracy'][-1]:.4f}\")\n",
    "    \n",
    "    # Append loss and accuracy to history lists\n",
    "    loss_history.append(history.history[\"loss\"][-1])\n",
    "    accuracy_history.append(history.history[\"accuracy\"][-1])\n",
    "\n",
    "end_time = time.time()\n",
    "\n",
    "# Close the progress bar\n",
    "progress_bar.close()\n",
    "\n",
    "total_time = end_time - start_time\n",
    "avg_time_per_epoch = total_time / epochs"
   ]
  },
  {
   "cell_type": "code",
   "execution_count": 16,
   "id": "6e89c06f-8f67-484c-8eff-b678296c2e51",
   "metadata": {},
   "outputs": [
    {
     "data": {
      "image/png": "[encoded data removed]",
      "text/plain": [
       "<Figure size 1200x400 with 2 Axes>"
      ]
     },
     "metadata": {},
     "output_type": "display_data"
    },
    {
     "name": "stdout",
     "output_type": "stream",
     "text": [
      "Total Training Time: 8.730076789855957 seconds\n",
      "Average Time per Epoch: 1.7460153579711915 seconds\n",
      "Final Loss: 0.09427955001592636\n",
      "Final Accuracy: 0.9713666439056396\n"
     ]
    }
   ],
   "source": [
    "# Plotting loss and accuracy\n",
    "plt.figure(figsize=(12, 4))\n",
    "plt.subplot(1, 2, 1)\n",
    "plt.plot(loss_history)\n",
    "plt.title(\"Model Loss\")\n",
    "plt.xlabel(\"Epoch\")\n",
    "plt.ylabel(\"Loss\")\n",
    "plt.subplot(1, 2, 2)\n",
    "plt.plot(accuracy_history)\n",
    "plt.title(\"Model Accuracy\")\n",
    "plt.xlabel(\"Epoch\")\n",
    "plt.ylabel(\"Accuracy\")\n",
    "plt.tight_layout()\n",
    "plt.show()\n",
    "\n",
    "print(\"Total Training Time:\", total_time, \"seconds\")\n",
    "print(\"Average Time per Epoch:\", avg_time_per_epoch, \"seconds\")\n",
    "final_loss = history.history[\"loss\"][-1]\n",
    "final_accuracy = history.history[\"accuracy\"][-1]\n",
    "print(\"Final Loss:\", final_loss)\n",
    "print(\"Final Accuracy:\", final_accuracy)"
   ]
  },
  {
   "cell_type": "code",
   "execution_count": null,
   "id": "a9c47e45-389a-4f1c-8db7-33ac52e58551",
   "metadata": {},
   "outputs": [],
   "source": []
  },
  {
   "cell_type": "code",
   "execution_count": null,
   "id": "b4b52c1e-d9ee-47d1-84f8-38d694e1fed0",
   "metadata": {},
   "outputs": [],
   "source": []
  }
 ],
 "metadata": {
  "kernelspec": {
   "display_name": "py3.11_tf2.12",
   "language": "python",
   "name": "py3.11_tf2.12"
  },
  "language_info": {
   "codemirror_mode": {
    "name": "ipython",
    "version": 3
   },
   "file_extension": ".py",
   "mimetype": "text/x-python",
   "name": "python",
   "nbconvert_exporter": "python",
   "pygments_lexer": "ipython3",
   "version": "3.10.9"
  }
 },
 "nbformat": 4,
 "nbformat_minor": 5
}
